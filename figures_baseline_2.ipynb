{
 "cells": [
  {
   "cell_type": "markdown",
   "metadata": {},
   "source": [
    "# Plotting notebook for figure 3a (baseline 3)"
   ]
  },
  {
   "cell_type": "code",
   "execution_count": 1,
   "metadata": {},
   "outputs": [],
   "source": [
    "import numpy as np\n",
    "import sempler\n",
    "import sempler.generators\n",
    "\n",
    "import matplotlib\n",
    "import matplotlib.pyplot as plt\n",
    "from matplotlib.lines import Line2D\n",
    "from matplotlib import gridspec\n",
    "\n",
    "import pickle\n",
    "import os\n",
    "\n",
    "import ut_lvcm\n",
    "import ut_lvcm.utils as utils\n",
    "import ut_lvcm.metrics as metrics\n",
    "import ut_lvcm.experiments as experiments\n",
    "\n",
    "import time"
   ]
  },
  {
   "cell_type": "code",
   "execution_count": 2,
   "metadata": {
    "scrolled": true
   },
   "outputs": [
    {
     "name": "stderr",
     "output_type": "stream",
     "text": [
      "/tmp/ipykernel_4307/529626932.py:5: MatplotlibDeprecationWarning: Support for setting the 'text.latex.preamble' or 'pgf.preamble' rcParam to a list of strings is deprecated since 3.3 and will be removed two minor releases later; set it to a single string instead.\n",
      "  matplotlib.rcParams['text.latex.preamble'] = [\n"
     ]
    },
    {
     "data": {
      "text/plain": [
       "<matplotlib.collections.PathCollection at 0x7efe46aefa60>"
      ]
     },
     "execution_count": 2,
     "metadata": {},
     "output_type": "execute_result"
    },
    {
     "data": {
      "image/png": "[encoded data removed]",
      "text/plain": [
       "<Figure size 432x288 with 1 Axes>"
      ]
     },
     "metadata": {
      "needs_background": "light"
     },
     "output_type": "display_data"
    }
   ],
   "source": [
    "# Set tex formatting for plots\n",
    "from matplotlib import rc\n",
    "#rc('font',**{'family':'serif','sans-serif':['Computer Modern Roman']})\n",
    "rc('text', usetex=True)\n",
    "matplotlib.rcParams['text.latex.preamble'] = [\n",
    "       r'\\usepackage{siunitx}',   # i need upright \\micro symbols, but you need...\n",
    "       r'\\sisetup{detect-all}',   # ...this to force siunitx to actually use your fonts\n",
    "       r'\\usepackage{helvet}',    # set the normal font here\n",
    "       r'\\usepackage{sansmath}',  # load up the sansmath so that math -> helvet\n",
    "       r'\\sansmath'               # <- tricky! -- gotta actually tell tex to use!\n",
    "]  \n",
    "#plt.rcParams[\"font.family\"] = \"serif\"\n",
    "#plt.rcParams[\"font.serif\"] = [\"Computer Modern Roman\"]\n",
    "\n",
    "# Set legend size\n",
    "from matplotlib.font_manager import FontProperties\n",
    "fontP = FontProperties()\n",
    "fontP.set_size('small')\n",
    "# Colors\n",
    "def to_rgb(H, b=1, a=1):\n",
    "    RGBa = []\n",
    "    for h in H:\n",
    "        h = h.lstrip(\"#\")\n",
    "        RGBa.append(tuple(int(h[i:i+2], 16) / 256 * b for i in (0, 2, 4)) + (a,))\n",
    "    return np.array(RGBa)\n",
    "\n",
    "cmap = matplotlib.cm.get_cmap('tab20')\n",
    "base = ['#d7191c', '#fdae61', '#2c7bb6', '#abd9e9']\n",
    "plt.scatter(np.arange(len(base)), np.ones(len(base)), c = base)\n",
    "colors = to_rgb(base)\n",
    "colorsa = to_rgb(base, a=0.5)\n",
    "colorsb = to_rgb(base, b=0.7)\n",
    "plt.scatter(np.arange(len(colors)), np.zeros(len(colors)), c = colors)\n",
    "plt.scatter(np.arange(len(colors)), np.ones(len(colors))*0.5, c = colorsa)\n",
    "plt.scatter(np.arange(len(colors)), np.ones(len(colors))*-0.5, c = colorsb)"
   ]
  },
  {
   "cell_type": "code",
   "execution_count": 3,
   "metadata": {},
   "outputs": [],
   "source": [
    "def read_result(filename):\n",
    "    if os.path.getsize(filename) > 0:\n",
    "        with open(filename, \"rb\") as f:\n",
    "            return pickle.load(f)"
   ]
  },
  {
   "cell_type": "markdown",
   "metadata": {},
   "source": [
    "### Extract results"
   ]
  },
  {
   "cell_type": "code",
   "execution_count": 4,
   "metadata": {
    "scrolled": true
   },
   "outputs": [],
   "source": [
    "Ns=np.array([100,500,1000,10000])\n",
    "runs = 50\n",
    "def extract_metrics(files):\n",
    "    all_metrics = {'ratio': np.zeros((len(Ns), runs)),\n",
    "                   't1': np.zeros((len(Ns), runs)),\n",
    "                   't2': np.zeros((len(Ns), runs)),\n",
    "                    'correct': np.zeros((len(Ns), runs))}\n",
    "    for file in files:\n",
    "        args,truth,results = read_result(file)\n",
    "        print(truth)\n",
    "        (true_model, true_I) = truth[0]\n",
    "        true_mec = utils.mec(true_model.A)\n",
    "        true_imec = utils.imec(true_model.A, true_I)\n",
    "        true_icpdag = utils.dag_to_icpdag(true_model.A, true_I)\n",
    "        all_metrics['true_mec'] = true_mec\n",
    "        all_metrics['true_imec'] = true_imec        \n",
    "        i = np.where(Ns == args.n)[0][0]\n",
    "        for run,_,result in results:\n",
    "            (estimated_model, estimated_I, _), history, metrics, _elapsed = result    \n",
    "            # Compute how often the true I-MEC is recovered\n",
    "            estimated_icpdag = utils.dag_to_icpdag(estimated_model.A, estimated_I)\n",
    "            all_metrics['correct'][i,run] = (estimated_icpdag == true_icpdag).all()\n",
    "            \n",
    "            # Compute how often a representative of the I-MEC is selected\n",
    "            all_metrics['ratio'][i,run] = utils.member(true_imec, estimated_model.A) is not None\n",
    "\n",
    "            # Compute t1/t2 metrics\n",
    "            # estimate = utils.imec(estimated_model.A, estimated_I)\n",
    "            # all_metrics['t1'][i,run] = ut_lvcm.metrics.type_1_structc(estimate, true_imec)\n",
    "            # all_metrics['t2'][i,run] = ut_lvcm.metrics.type_2_structc(estimate, true_imec)\n",
    "            metrics = dict(metrics)            \n",
    "            all_metrics['t1'][i,run] = metrics[ut_lvcm.metrics.type_1_struct]\n",
    "            all_metrics['t2'][i,run] = metrics[ut_lvcm.metrics.type_2_struct]\n",
    "    return all_metrics"
   ]
  },
  {
   "cell_type": "code",
   "execution_count": 9,
   "metadata": {},
   "outputs": [],
   "source": [
    "def figure_no_pruning(results, filename=None):\n",
    "    w = 2.5\n",
    "    plt.figure(figsize=(2*w,w*0.95), dpi=100)\n",
    "    gs = gridspec.GridSpec(1, 2, wspace=0.07, hspace=0)\n",
    "    markers = {100:'D', 500: 'o', 1000:'X', 10000:'.'}\n",
    "    c = dict(zip([100,500,1000,10000], colors))\n",
    "    cb = dict(zip([100,500,1000,10000], colorsb))\n",
    "\n",
    "    # --------------------------------------------------\n",
    "    # Histogram\n",
    "    plt.subplot(gs[0])\n",
    "    ax = plt.gca()\n",
    "    ax.bar(range(len(Ns)), results['ratio'].mean(axis=1), color=colors, edgecolor=colorsb)\n",
    "    ax.set_xticks(range(len(Ns)))\n",
    "    ax.set_xticklabels([100, 500, '1K', '10K'])\n",
    "    ax.set_xlabel(\"Obs. per environment (n)\")\n",
    "    ax.set_ylabel(\"Graph in true I-MEC\\nwas best scoring (ratio)\")\n",
    "    ax.set_ylim([0,1.05])\n",
    "    for i,ratio in enumerate(results['ratio'].mean(axis=1)):\n",
    "        ax.text(i,ratio-0.1,\"%0.2f\" % ratio, ha='center',size=9)\n",
    "\n",
    "    # --------------------------------------------------\n",
    "    # t1/t2 metrics\n",
    "    plt.subplot(gs[1])\n",
    "    ax = plt.gca()\n",
    "\n",
    "    # Plot\n",
    "    x, y = results['t1'].mean(axis=1), 1-results['t2'].mean(axis=1)\n",
    "\n",
    "    for i,n in enumerate(Ns):\n",
    "        ax.plot(x[i],y[i], marker=markers[n], markerfacecolor=c[n], markeredgecolor=cb[n], zorder=10+n, clip_on=False, markersize=8)\n",
    "\n",
    "\n",
    "    ax.set_ylim([0,1])\n",
    "    ax.set_xlim([0,1])\n",
    "\n",
    "    # Format\n",
    "    ax.yaxis.tick_right()\n",
    "    xticks = [0, 0.25, 0.5, 0.75, 1]\n",
    "    ax.set_xticks(xticks)\n",
    "    ax.set_xticklabels(xticks)\n",
    "    yticks = [0, 0.2, 0.4, 0.6, 0.8, 1]\n",
    "    ax.set_yticks(yticks)\n",
    "    ax.set_yticklabels(yticks)\n",
    "    ax.set_xlabel(\"avg. FDP\")\n",
    "    ax.yaxis.set_label_position(\"right\")\n",
    "    ax.set_ylabel(\"avg. TDP\")\n",
    "\n",
    "    # Legend\n",
    "    sample_size_entries = [Line2D([0], [0], linestyle='None', marker=markers[n], color=c[n], markeredgecolor=cb[n]) for n in markers.keys()]\n",
    "    sample_size_str = [\"n = %d\" % n for n in markers.keys()]\n",
    "    ax.legend(sample_size_entries,# + initial_point_entry,\n",
    "              sample_size_str,# + [\"True MEC\"],\n",
    "              prop={'size':8},\n",
    "              loc='lower right',\n",
    "              ncol=1)\n",
    "              #bbox_to_anchor=(1.63,1.04))\n",
    "\n",
    "    if filename is not None:\n",
    "        plt.savefig(\"figures/\" + filename, bbox_inches='tight')"
   ]
  },
  {
   "cell_type": "markdown",
   "metadata": {},
   "source": [
    "## Figure 3a"
   ]
  },
  {
   "cell_type": "code",
   "execution_count": 6,
   "metadata": {},
   "outputs": [],
   "source": [
    "files_baseline_2_rd_hs = [\n",
    "\"experiments/results_1647698763__seed:42_tag:fb2b_disc:30_runs:50_no_edges:5_G:1_k:2.1_p:20_w_lo:0.7_w_hi:0.7_v_lo:0.5_v_hi:0.6_i_v_lo:6.0_i_v_hi:12.0_psi_lo:0.2_psi_hi:0.3_i_psi_lo:0.2_i_psi_hi:1.0_h:2_e:5_size_I:4_init:3_np:1_fh:None_n:100/compiled_results.pickle\",\n",
    "\"experiments/results_1647698763__seed:42_tag:fb2b_disc:30_runs:50_no_edges:5_G:1_k:2.1_p:20_w_lo:0.7_w_hi:0.7_v_lo:0.5_v_hi:0.6_i_v_lo:6.0_i_v_hi:12.0_psi_lo:0.2_psi_hi:0.3_i_psi_lo:0.2_i_psi_hi:1.0_h:2_e:5_size_I:4_init:3_np:1_fh:None_n:1000/compiled_results.pickle\",\n",
    "\"experiments/results_1647698764__seed:42_tag:fb2b_disc:30_runs:50_no_edges:5_G:1_k:2.1_p:20_w_lo:0.7_w_hi:0.7_v_lo:0.5_v_hi:0.6_i_v_lo:6.0_i_v_hi:12.0_psi_lo:0.2_psi_hi:0.3_i_psi_lo:0.2_i_psi_hi:1.0_h:2_e:5_size_I:4_init:3_np:1_fh:None_n:500/compiled_results.pickle\",\n",
    "\"experiments/results_1647698766__seed:42_tag:fb2b_disc:30_runs:50_no_edges:5_G:1_k:2.1_p:20_w_lo:0.7_w_hi:0.7_v_lo:0.5_v_hi:0.6_i_v_lo:6.0_i_v_hi:12.0_psi_lo:0.2_psi_hi:0.3_i_psi_lo:0.2_i_psi_hi:1.0_h:2_e:5_size_I:4_init:3_np:1_fh:None_n:10000/compiled_results.pickle\",\n",
    "]"
   ]
  },
  {
   "cell_type": "code",
   "execution_count": 7,
   "metadata": {},
   "outputs": [
    {
     "name": "stdout",
     "output_type": "stream",
     "text": [
      "[(<ut_lvcm.model.Model object at 0x7efe46237fa0>, {16, 9, 3, 12})]\n",
      "[(<ut_lvcm.model.Model object at 0x7efe46210670>, {16, 9, 3, 12})]\n",
      "[(<ut_lvcm.model.Model object at 0x7efe46210df0>, {16, 9, 3, 12})]\n",
      "[(<ut_lvcm.model.Model object at 0x7efe46210f40>, {16, 9, 3, 12})]\n",
      "CPU times: user 3.69 s, sys: 22.7 ms, total: 3.71 s\n",
      "Wall time: 3.71 s\n"
     ]
    }
   ],
   "source": [
    "%%time\n",
    "metrics_baseline_2_rd_hs = extract_metrics(files_baseline_2_rd_hs)"
   ]
  },
  {
   "cell_type": "code",
   "execution_count": 16,
   "metadata": {},
   "outputs": [
    {
     "data": {
      "image/png": "[encoded data removed]",
      "text/plain": [
       "<Figure size 500x237.5 with 2 Axes>"
      ]
     },
     "metadata": {
      "needs_background": "light"
     },
     "output_type": "display_data"
    }
   ],
   "source": [
    "figure_no_pruning(metrics_baseline_2_rd_hs, \"figure_baseline_2.pdf\")"
   ]
  },
  {
   "cell_type": "code",
   "execution_count": null,
   "metadata": {},
   "outputs": [],
   "source": []
  }
 ],
 "metadata": {
  "kernelspec": {
   "display_name": "Python 3",
   "language": "python",
   "name": "python3"
  },
  "language_info": {
   "codemirror_mode": {
    "name": "ipython",
    "version": 3
   },
   "file_extension": ".py",
   "mimetype": "text/x-python",
   "name": "python",
   "nbconvert_exporter": "python",
   "pygments_lexer": "ipython3",
   "version": "3.7.3"
  }
 },
 "nbformat": 4,
 "nbformat_minor": 5
}
