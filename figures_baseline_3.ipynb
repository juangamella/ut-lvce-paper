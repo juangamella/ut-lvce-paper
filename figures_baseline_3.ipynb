{
 "cells": [
  {
   "cell_type": "markdown",
   "metadata": {},
   "source": [
    "# Figure 3b"
   ]
  },
  {
   "cell_type": "code",
   "execution_count": 1,
   "metadata": {},
   "outputs": [
    {
     "name": "stderr",
     "output_type": "stream",
     "text": [
      "/home/juan/anaconda3/lib/python3.7/site-packages/rpy2/robjects/vectors.py:1008: UserWarning: R object inheriting from \"POSIXct\" but without attribute \"tzone\".\n",
      "  warnings.warn('R object inheriting from \"POSIXct\" but without '\n",
      "/home/juan/anaconda3/lib/python3.7/site-packages/pandas/core/arrays/datetimes.py:1858: PytzUsageWarning: The zone attribute is specific to pytz's interface; please migrate to a new time zone provider. For more details on how to do so, see https://pytz-deprecation-shim.readthedocs.io/en/latest/migration.html\n",
      "  values, tz_parsed = conversion.datetime_to_datetime64(data)\n"
     ]
    }
   ],
   "source": [
    "import numpy as np\n",
    "import sempler\n",
    "import sempler.generators\n",
    "\n",
    "import matplotlib\n",
    "import matplotlib.pyplot as plt\n",
    "from matplotlib.lines import Line2D\n",
    "from matplotlib import gridspec\n",
    "\n",
    "import pickle\n",
    "import os\n",
    "\n",
    "import ut_lvcm.utils as utils\n",
    "import ut_lvcm.metrics"
   ]
  },
  {
   "cell_type": "code",
   "execution_count": 2,
   "metadata": {},
   "outputs": [
    {
     "data": {
      "text/plain": [
       "<matplotlib.collections.PathCollection at 0x7f92236a3e80>"
      ]
     },
     "execution_count": 2,
     "metadata": {},
     "output_type": "execute_result"
    },
    {
     "data": {
      "image/png": "[encoded data removed]",
      "text/plain": [
       "<Figure size 432x288 with 1 Axes>"
      ]
     },
     "metadata": {
      "needs_background": "light"
     },
     "output_type": "display_data"
    }
   ],
   "source": [
    "# Set tex formatting for plots\n",
    "from matplotlib import rc\n",
    "#rc('font',**{'family':'serif','sans-serif':['Computer Modern Roman']})\n",
    "rc('text', usetex=True)\n",
    "matplotlib.rcParams['text.latex.preamble'] = [\n",
    "       r'\\usepackage{siunitx}',   # i need upright \\micro symbols, but you need...\n",
    "       r'\\sisetup{detect-all}',   # ...this to force siunitx to actually use your fonts\n",
    "       r'\\usepackage{helvet}',    # set the normal font here\n",
    "       r'\\usepackage{sansmath}',  # load up the sansmath so that math -> helvet\n",
    "       r'\\sansmath'               # <- tricky! -- gotta actually tell tex to use!\n",
    "]  \n",
    "#plt.rcParams[\"font.family\"] = \"serif\"\n",
    "#plt.rcParams[\"font.serif\"] = [\"Computer Modern Roman\"]\n",
    "\n",
    "# Set legend size\n",
    "from matplotlib.font_manager import FontProperties\n",
    "fontP = FontProperties()\n",
    "fontP.set_size('small')\n",
    "# Colors\n",
    "def to_rgb(H, b=1, a=1):\n",
    "    RGBa = []\n",
    "    for h in H:\n",
    "        h = h.lstrip(\"#\")\n",
    "        RGBa.append(tuple(int(h[i:i+2], 16) / 256 * b for i in (0, 2, 4)) + (a,))\n",
    "    return np.array(RGBa)\n",
    "\n",
    "cmap = matplotlib.cm.get_cmap('tab20')\n",
    "base = ['#d7191c', '#fdae61', '#2c7bb6', '#abd9e9']\n",
    "plt.scatter(np.arange(len(base)), np.ones(len(base)), c = base)\n",
    "colors = to_rgb(base)\n",
    "colorsa = to_rgb(base, a=0.5)\n",
    "colorsb = to_rgb(base, b=0.7)\n",
    "plt.scatter(np.arange(len(colors)), np.zeros(len(colors)), c = colors)\n",
    "plt.scatter(np.arange(len(colors)), np.ones(len(colors))*0.5, c = colorsa)\n",
    "plt.scatter(np.arange(len(colors)), np.ones(len(colors))*-0.5, c = colorsb)"
   ]
  },
  {
   "cell_type": "code",
   "execution_count": 3,
   "metadata": {},
   "outputs": [],
   "source": [
    "def read_result(filename):\n",
    "    if os.path.getsize(filename) > 0:\n",
    "        with open(filename, \"rb\") as f:\n",
    "            return pickle.load(f)"
   ]
  },
  {
   "cell_type": "code",
   "execution_count": 4,
   "metadata": {},
   "outputs": [],
   "source": [
    "def initial_metrics(truth, initial_graphs):\n",
    "    # Also compute the t1/t2 metrics for the initial graphs\n",
    "    (true_model, true_I) = truth\n",
    "    true_imec = utils.imec(true_model.A, true_I)\n",
    "    #print(\"len(true_imec) =\", len(true_imec))\n",
    "    t1 = ut_lvcm.metrics.type_1_structc(initial_graphs, true_imec)\n",
    "    t2 = ut_lvcm.metrics.type_2_structc(initial_graphs, true_imec)\n",
    "    return t1,t2"
   ]
  },
  {
   "cell_type": "code",
   "execution_count": 5,
   "metadata": {
    "scrolled": false
   },
   "outputs": [],
   "source": [
    "def extract_metrics(files, runs=50):\n",
    "    # Extract the t1/t2 metrics\n",
    "    Ns = np.array([100,500,1000,10000])\n",
    "    t1 = np.zeros((len(Ns),runs))\n",
    "    t2 = np.zeros_like(t1)\n",
    "    t1_init = np.zeros_like(t1)\n",
    "    t2_init = np.zeros_like(t1)\n",
    "    reprs = np.zeros_like(t1)\n",
    "\n",
    "    # --------------------------------------------------\n",
    "    elapseds = []\n",
    "    for file in files:\n",
    "        results = read_result(file)\n",
    "        n = results[0].n\n",
    "        j = np.where(Ns == n)[0][0]\n",
    "        print(\"  \",n,j)\n",
    "        for k, (true_model, true_I), run_result in results[2]:        \n",
    "            (estimated_model, estimated_I, _), history, metrics, elapsed = run_result\n",
    "            elapseds.append(elapsed)            \n",
    "            metrics=dict(metrics)\n",
    "            t1[j,k] = metrics[ut_lvcm.metrics.type_1_struct]\n",
    "            t2[j,k] = metrics[ut_lvcm.metrics.type_2_struct]            \n",
    "            t1_init[j,k], t2_init[j,k] = initial_metrics((true_model, true_I), history['initial_graphs'])\n",
    "            true_icpdag = utils.dag_to_icpdag(true_model.A, true_I)\n",
    "            reprs[j,k] = utils.is_consistent_extension(estimated_model.A, true_icpdag)\n",
    "\n",
    "    print(\"Average run: %0.2f seconds\" % np.mean(elapseds))\n",
    "    \n",
    "    # Check: The metric for the initial point of each graph is the same for all runs/sample sizes\n",
    "    for (t1_init_graph,t2_init_graph) in zip(t1_init, t2_init):\n",
    "        assert len(np.unique(t1_init_graph)) == 1\n",
    "        assert len(np.unique(t2_init_graph)) == 1\n",
    "    t1_init = t1_init[0,0]\n",
    "    t2_init = t2_init[0,0]\n",
    "\n",
    "    print(\"Done.\")\n",
    "    return t1,t2,t1_init,t2_init"
   ]
  },
  {
   "cell_type": "code",
   "execution_count": 6,
   "metadata": {},
   "outputs": [],
   "source": [
    "def plot_roc(results_ch, results_rd, filename=None, Ns = np.array([100,500,1000,10000])):\n",
    "    w = 2.5\n",
    "    plt.figure(figsize=(3*w,w*0.95), dpi=100)\n",
    "    gs = gridspec.GridSpec(1, 3, wspace=0.07, hspace=0)\n",
    "\n",
    "    # Settings\n",
    "    lim = [0,1]#[-0.02,1.02]\n",
    "    markers = {100:'D', 500: 'o', 1000:'X', 10000:'.'}\n",
    "    c = dict(zip([100,500,1000,10000], colors))\n",
    "    cb = dict(zip([100,500,1000,10000], colorsb))\n",
    "    xticks = [0, 0.25, 0.5, 0.75, 1]\n",
    "    yticks = [0, 0.2, 0.4, 0.6, 0.8, 1]\n",
    "\n",
    "    def plot(ax,results):\n",
    "        for j,n in enumerate(Ns):\n",
    "            t1,t2,t1_init,t2_init = results\n",
    "            x, y = t1[j,:].mean(), 1-t2[j,:].mean()\n",
    "            x_init, y_init = t1_init, 1-t2_init\n",
    "            ax.plot(x,y, label=\"n=%d\" % n,\n",
    "                    marker=markers[n],\n",
    "                    markerfacecolor=c[n],\n",
    "                    markeredgecolor=cb[n],\n",
    "                    markersize=8,\n",
    "                    zorder=10 + n,\n",
    "                    clip_on=False)\n",
    "            ax.scatter(x_init, y_init, color='gray', marker='+', clip_on=False, zorder=10, s=60)\n",
    "            ax.plot([x_init, x], [y_init, y], zorder=-1, linestyle=\":\", color='gray')\n",
    "            ax.set_ylim(lim)\n",
    "            ax.set_xlim(lim)\n",
    "            ax.set_xticks(xticks)\n",
    "            ax.set_xticklabels(xticks)\n",
    "            ax.set_yticks(yticks)\n",
    "            ax.set_yticklabels(yticks)\n",
    "            ax.set_xlabel(\"avg. FDP\")\n",
    "\n",
    "\n",
    "    # --------------------------------------------------\n",
    "    # Plot chain graph\n",
    "    plt.subplot(gs[0])\n",
    "    ax = plt.gca()\n",
    "    plot(ax, results_ch)\n",
    "    ax.set_ylabel(\"avg. TDP\")\n",
    "    ax.set_title(\"Chain graph\")\n",
    "\n",
    "    # --------------------------------------------------\n",
    "    # Plot random graph 1\n",
    "    plt.subplot(gs[1])\n",
    "    ax = plt.gca()\n",
    "    plot(ax, results_rd)\n",
    "    ax.set_yticklabels([])\n",
    "    ax.set_title(\"Random graph\")\n",
    "\n",
    "    # Legend\n",
    "    ax.legend(loc='lower right')\n",
    "    sample_size_entries = [Line2D([0], [0],\n",
    "                                  linestyle='None',\n",
    "                                  marker=markers[n],\n",
    "                                  markerfacecolor=c[n],\n",
    "                                  markeredgecolor=cb[n]) for n in markers.keys()]\n",
    "    sample_size_str = [\"n = %d\" % n for n in markers.keys()]\n",
    "    initial_point_entry = [Line2D([0], [0], linestyle='None', marker='+', color='gray')]\n",
    "    ax.legend(sample_size_entries + initial_point_entry, sample_size_str + [\"MEC + rand. edges\"], prop={'size':8}, loc='lower right', ncol=1)\n",
    "\n",
    "    if filename is not None:\n",
    "        plt.savefig(\"figures/\" + filename, bbox_inches='tight')"
   ]
  },
  {
   "cell_type": "markdown",
   "metadata": {},
   "source": [
    "## Figure 3b"
   ]
  },
  {
   "cell_type": "code",
   "execution_count": 7,
   "metadata": {},
   "outputs": [],
   "source": [
    "files_baseline_3_rd_hs = [\n",
    "\"baseline_experiments/results_1688832745__seed:42_tag:fb3_disc:15_runs:50_no_edges:20_G:1_k:2.1_p:20_w_lo:0.6_w_hi:0.8_v_lo:0.5_v_hi:0.6_i_v_lo:6.0_i_v_hi:12.0_psi_lo:0.2_psi_hi:0.3_i_psi_lo:0.2_i_psi_hi:1.0_h:2_e:5_size_I:10_init:4_np:0_fh:None_n:100/compiled_results.pickle\",\n",
    "\"baseline_experiments/results_1688832745__seed:42_tag:fb3_disc:15_runs:50_no_edges:20_G:1_k:2.1_p:20_w_lo:0.6_w_hi:0.8_v_lo:0.5_v_hi:0.6_i_v_lo:6.0_i_v_hi:12.0_psi_lo:0.2_psi_hi:0.3_i_psi_lo:0.2_i_psi_hi:1.0_h:2_e:5_size_I:10_init:4_np:0_fh:None_n:500/compiled_results.pickle\",\n",
    "\"baseline_experiments/results_1688832748__seed:42_tag:fb3_disc:15_runs:50_no_edges:20_G:1_k:2.1_p:20_w_lo:0.6_w_hi:0.8_v_lo:0.5_v_hi:0.6_i_v_lo:6.0_i_v_hi:12.0_psi_lo:0.2_psi_hi:0.3_i_psi_lo:0.2_i_psi_hi:1.0_h:2_e:5_size_I:10_init:4_np:0_fh:None_n:1000/compiled_results.pickle\",\n",
    "\"baseline_experiments/results_1688832751__seed:42_tag:fb3_disc:15_runs:50_no_edges:20_G:1_k:2.1_p:20_w_lo:0.6_w_hi:0.8_v_lo:0.5_v_hi:0.6_i_v_lo:6.0_i_v_hi:12.0_psi_lo:0.2_psi_hi:0.3_i_psi_lo:0.2_i_psi_hi:1.0_h:2_e:5_size_I:10_init:4_np:0_fh:None_n:10000/compiled_results.pickle\",\n",
    "]\n",
    "\n",
    "# Chain graph\n",
    "\n",
    "\n",
    "files_baseline_3_ch_hs = [\n",
    "\"baseline_experiments/results_1688832746__seed:42_tag:fb3_disc:15_runs:50_no_edges:20_G:-1_k:2.1_p:20_w_lo:0.6_w_hi:0.8_v_lo:0.5_v_hi:0.6_i_v_lo:6.0_i_v_hi:12.0_psi_lo:0.2_psi_hi:0.3_i_psi_lo:0.2_i_psi_hi:1.0_h:2_e:5_size_I:10_init:4_np:0_fh:None_n:100/compiled_results.pickle\",\n",
    "\"baseline_experiments/results_1688832747__seed:42_tag:fb3_disc:15_runs:50_no_edges:20_G:-1_k:2.1_p:20_w_lo:0.6_w_hi:0.8_v_lo:0.5_v_hi:0.6_i_v_lo:6.0_i_v_hi:12.0_psi_lo:0.2_psi_hi:0.3_i_psi_lo:0.2_i_psi_hi:1.0_h:2_e:5_size_I:10_init:4_np:0_fh:None_n:500/compiled_results.pickle\",\n",
    "\"baseline_experiments/results_1688832748__seed:42_tag:fb3_disc:15_runs:50_no_edges:20_G:-1_k:2.1_p:20_w_lo:0.6_w_hi:0.8_v_lo:0.5_v_hi:0.6_i_v_lo:6.0_i_v_hi:12.0_psi_lo:0.2_psi_hi:0.3_i_psi_lo:0.2_i_psi_hi:1.0_h:2_e:5_size_I:10_init:4_np:0_fh:None_n:1000/compiled_results.pickle\",\n",
    "\"baseline_experiments/results_1688832750__seed:42_tag:fb3_disc:15_runs:50_no_edges:20_G:-1_k:2.1_p:20_w_lo:0.6_w_hi:0.8_v_lo:0.5_v_hi:0.6_i_v_lo:6.0_i_v_hi:12.0_psi_lo:0.2_psi_hi:0.3_i_psi_lo:0.2_i_psi_hi:1.0_h:2_e:5_size_I:10_init:4_np:0_fh:None_n:10000/compiled_results.pickle\",\n",
    "]\n",
    "\n"
   ]
  },
  {
   "cell_type": "code",
   "execution_count": 8,
   "metadata": {},
   "outputs": [
    {
     "name": "stdout",
     "output_type": "stream",
     "text": [
      "   100 0\n",
      "   500 1\n",
      "   1000 2\n",
      "   10000 3\n",
      "Average run: 8801.44 seconds\n",
      "Done.\n",
      "   100 0\n",
      "   500 1\n",
      "   1000 2\n",
      "   10000 3\n",
      "Average run: 11083.49 seconds\n",
      "Done.\n"
     ]
    }
   ],
   "source": [
    "results_rd = extract_metrics(files_baseline_3_rd_hs)\n",
    "results_ch = extract_metrics(files_baseline_3_ch_hs)"
   ]
  },
  {
   "cell_type": "code",
   "execution_count": 9,
   "metadata": {
    "scrolled": true
   },
   "outputs": [
    {
     "data": {
      "image/png": "[encoded data removed]",
      "text/plain": [
       "<Figure size 750x237.5 with 2 Axes>"
      ]
     },
     "metadata": {
      "needs_background": "light"
     },
     "output_type": "display_data"
    }
   ],
   "source": [
    "plot_roc(results_ch, results_rd, filename=\"figure_baseline_3.pdf\")"
   ]
  },
  {
   "cell_type": "code",
   "execution_count": null,
   "metadata": {},
   "outputs": [],
   "source": []
  }
 ],
 "metadata": {
  "kernelspec": {
   "display_name": "Python 3",
   "language": "python",
   "name": "python3"
  },
  "language_info": {
   "codemirror_mode": {
    "name": "ipython",
    "version": 3
   },
   "file_extension": ".py",
   "mimetype": "text/x-python",
   "name": "python",
   "nbconvert_exporter": "python",
   "pygments_lexer": "ipython3",
   "version": "3.7.3"
  }
 },
 "nbformat": 4,
 "nbformat_minor": 5
}
