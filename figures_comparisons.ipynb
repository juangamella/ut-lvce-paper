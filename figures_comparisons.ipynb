{
 "cells": [
  {
   "cell_type": "markdown",
   "metadata": {},
   "source": [
    "# Figures for UT-LVCE as a causal discovery procedure\n",
    "\n",
    "### i.e. Figures 4, 7, 8 and 9"
   ]
  },
  {
   "cell_type": "code",
   "execution_count": 1,
   "metadata": {},
   "outputs": [],
   "source": [
    "import numpy as np\n",
    "import sempler\n",
    "import sempler.generators\n",
    "\n",
    "import matplotlib\n",
    "import matplotlib.pyplot as plt\n",
    "from matplotlib import gridspec\n",
    "from matplotlib.lines import Line2D\n",
    "\n",
    "import pickle\n",
    "import os\n",
    "\n",
    "import ut_lvcm.utils as utils\n",
    "import ut_lvcm.metrics"
   ]
  },
  {
   "cell_type": "code",
   "execution_count": 2,
   "metadata": {},
   "outputs": [
    {
     "data": {
      "text/plain": [
       "<matplotlib.collections.PathCollection at 0x7fef7e7af0b8>"
      ]
     },
     "execution_count": 2,
     "metadata": {},
     "output_type": "execute_result"
    },
    {
     "data": {
      "image/png": "[encoded data removed]",
      "text/plain": [
       "<Figure size 432x288 with 1 Axes>"
      ]
     },
     "metadata": {
      "needs_background": "light"
     },
     "output_type": "display_data"
    }
   ],
   "source": [
    "# Set tex formatting for plots\n",
    "from matplotlib import rc\n",
    "#rc('font',**{'family':'serif','sans-serif':['Computer Modern Roman']})\n",
    "rc('text', usetex=True)\n",
    "matplotlib.rcParams['text.latex.preamble'] = [\n",
    "       r'\\usepackage{siunitx}',   # i need upright \\micro symbols, but you need...\n",
    "       r'\\sisetup{detect-all}',   # ...this to force siunitx to actually use your fonts\n",
    "       r'\\usepackage{helvet}',    # set the normal font here\n",
    "       r'\\usepackage{sansmath}',  # load up the sansmath so that math -> helvet\n",
    "       r'\\sansmath'               # <- tricky! -- gotta actually tell tex to use!\n",
    "]  \n",
    "#plt.rcParams[\"font.family\"] = \"serif\"\n",
    "#plt.rcParams[\"font.serif\"] = [\"Computer Modern Roman\"]\n",
    "\n",
    "# Set legend size\n",
    "from matplotlib.font_manager import FontProperties\n",
    "fontP = FontProperties()\n",
    "fontP.set_size('small')\n",
    "\n",
    "# Colors\n",
    "def to_rgb(H, b=1, a=1, w=0):\n",
    "    RGBa = []\n",
    "    for h in H:\n",
    "        h = h.lstrip(\"#\")\n",
    "        RGBa.append(tuple(min(1,int(h[i:i+2], 16) / 256 * b + w) for i in (0, 2, 4)) + (a,))\n",
    "    return np.array(RGBa)\n",
    "\n",
    "cmap = matplotlib.cm.get_cmap('tab20')\n",
    "base = ['#d7191c', '#fdae61', '#2c7bb6', '#abd9e9']\n",
    "plt.scatter(np.arange(len(base)), np.ones(len(base)), c = base)\n",
    "colors = to_rgb(base)\n",
    "colorsa = to_rgb(base, b=0.8)\n",
    "colorsb = to_rgb(base, b=0.4)\n",
    "plt.scatter(np.arange(len(colors)), np.zeros(len(colors)), c = colors)\n",
    "plt.scatter(np.arange(len(colors)), np.ones(len(colors))*0.5, c = colorsa)\n",
    "plt.scatter(np.arange(len(colors)), np.ones(len(colors))*-0.5, c = colorsb)"
   ]
  },
  {
   "cell_type": "code",
   "execution_count": 3,
   "metadata": {},
   "outputs": [],
   "source": [
    "def read_result(filename):\n",
    "    if os.path.getsize(filename) > 0:\n",
    "        with open(filename, \"rb\") as f:\n",
    "            return pickle.load(f)"
   ]
  },
  {
   "cell_type": "code",
   "execution_count": 4,
   "metadata": {},
   "outputs": [],
   "source": [
    "methods = [\"ut_lvce\", \"backshift\", \"causal_dantzig\", \"lrps\"]\n",
    "names = [\"UT-LVCE\", \"backShift\", \"Causal Dantzig\", \"LRPS+GES\"]\n",
    "disp_names = {\"UT-LVCE\": \"GES+UT-LVCE\",\n",
    "              \"backShift\": \"backShift\",\n",
    "              \"Causal Dantzig\": \"Causal Dantzig\",\n",
    "              \"LRPS+GES\": \"LRPS+GES\"}\n",
    "names_methods = list(zip(names,methods))"
   ]
  },
  {
   "cell_type": "code",
   "execution_count": 5,
   "metadata": {},
   "outputs": [],
   "source": [
    "def process_results(all_files, what='parents', debug=False, exclude=[]):\n",
    "    # Iterate over intervention sizes\n",
    "    values = {}\n",
    "    supergraphs = {}\n",
    "    size_initial = {}\n",
    "    for i,files_size_I in enumerate(all_files):  \n",
    "        # Iterate over sample sizes\n",
    "        dict_Ns = {}\n",
    "        supergraphs_Ns = {}\n",
    "        size_initial_Ns = {}\n",
    "        for j,file_n in enumerate(files_size_I):\n",
    "            args, test_cases, results = read_result(file_n)\n",
    "            # Check that intervention size is consistent\n",
    "            if j == 0:\n",
    "                size_I = args.size_I\n",
    "                print(\"  |I^\\star| =\", size_I) if debug else None\n",
    "            if j > 0:\n",
    "                assert size_I == args.size_I\n",
    "            # Iterate over methods            \n",
    "            dict_methods = {}            \n",
    "            print(\"    n =\", args.n) if debug else None\n",
    "            # If looking at parent estimates                        \n",
    "            if what=='parents':                                \n",
    "                for (name,method) in names_methods:\n",
    "                    if name in exclude:\n",
    "                        continue\n",
    "                    print(\"      method =\", name) if debug else None\n",
    "                    t1 = np.array(results['t1_%s' % method])\n",
    "                    t2 = np.array(results['t2_%s' % method])\n",
    "                    # Store results for this method\n",
    "                    dict_methods[name] = (t1,t2)\n",
    "            # If looking at I-MEC estimates            \n",
    "            elif what=='graphs':\n",
    "                truth = [utils.imec(m.A, I) for m,I in test_cases]\n",
    "                estimates = {}\n",
    "                if 'LRPS+GES' not in exclude:\n",
    "                    estimates['LRPS+GES'] = [utils.all_dags(cpdag) for cpdag in results['graphs_lrps']]\n",
    "                if 'backShift' not in exclude:\n",
    "                    estimates['backShift'] = [[A] for A in results['graphs_backshift']]\n",
    "                if 'UT-LVCE' not in exclude:\n",
    "                    estimates['UT-LVCE'] = [utils.imec(m.A,I) for (m,I,_),_ in results['ut_lvce_output']]\n",
    "                    # Count instances of GES upergraphs for binning\n",
    "                    all_initial_graphs = [h['initial_graphs'] for _,h in results['ut_lvce_output']]\n",
    "                    counts = np.zeros(len(truth))\n",
    "                    sizes = np.zeros(len(truth))\n",
    "                    for j,(true_imec,initial_graphs) in enumerate(zip(truth,all_initial_graphs)):\n",
    "                        sizes[j] = len(initial_graphs)\n",
    "                        for A0 in initial_graphs:\n",
    "                            if np.array([utils.is_supergraph(A0, A) for A in true_imec]).any():\n",
    "                                 counts[j] += 1\n",
    "                    supergraphs_Ns[args.n] = counts\n",
    "                    size_initial_Ns[args.n] = sizes\n",
    "                for name in [name for name in names if name not in exclude + ['Causal Dantzig']]:\n",
    "                    print(\"      method =\", name) if debug else None\n",
    "                    t1 = np.zeros(len(truth))\n",
    "                    t2 = np.zeros(len(truth))\n",
    "                    for j, true_imec in enumerate(truth):\n",
    "                        t1[j] = ut_lvcm.metrics.type_1_structc(estimates[name][j], true_imec)\n",
    "                        t2[j] = ut_lvcm.metrics.type_2_structc(estimates[name][j], true_imec)\n",
    "                    dict_methods[name] = (t1, t2)\n",
    "            # Store results for this sample size\n",
    "            dict_Ns[args.n] = dict_methods            \n",
    "        # Store results for this intervention size\n",
    "        values[size_I] = dict_Ns\n",
    "        supergraphs[size_I] = supergraphs_Ns\n",
    "        size_initial[size_I] = size_initial_Ns\n",
    "    return values, supergraphs, size_initial"
   ]
  },
  {
   "cell_type": "code",
   "execution_count": 6,
   "metadata": {},
   "outputs": [],
   "source": [
    "def plot_roc_I(ax,values,mean=True,label_y=False,xticks=None,legend=None):\n",
    "    # Parameters\n",
    "    method_markers = {\n",
    "        \"UT-LVCE\": {'fillstyle': 'right', 'markerfacecolor': colors[0], 'markerfacecoloralt': colorsa[0], 'markeredgecolor': colorsb[0]},\n",
    "        \"backShift\": {'fillstyle': 'full', 'markerfacecolor': colors[1], 'markerfacecoloralt': colorsa[1], 'markeredgecolor': colorsb[1]},\n",
    "        \"Causal Dantzig\": {'fillstyle': 'full', 'markerfacecolor': colors[2], 'markerfacecoloralt': colorsa[2], 'markeredgecolor': colorsb[2]},\n",
    "        \"LRPS+GES\": {'fillstyle': 'top', 'markerfacecolor': colors[3], 'markerfacecoloralt': colorsa[3], 'markeredgecolor': colorsb[3]}\n",
    "    }\n",
    "    markers_n = dict(zip([100,500,1000,10000], ['D', 'o', 'X', '.']))\n",
    "    yticks = [0, 0.2, 0.4, 0.6, 0.8, 1]    \n",
    "    # Plot\n",
    "    used_ns, used_methods = set(), set()   \n",
    "    for n, dict_n in values.items():\n",
    "        used_ns.add(n)\n",
    "        for name, (t1,t2) in dict_n.items():\n",
    "            used_methods.add(name)\n",
    "            x, y = (t1.mean(),1-t2.mean()) if mean else (t1, 1-t2)\n",
    "            ax.plot(x, y,\n",
    "                    marker=markers_n[n],\n",
    "                    markersize=9,\n",
    "                    zorder=10 + n,\n",
    "                    clip_on=False,\n",
    "                    markeredgewidth=0.7,\n",
    "                    **method_markers[name])\n",
    "    # Compose legend\n",
    "    if legend is not None:\n",
    "        used_ns = sorted(used_ns)\n",
    "\n",
    "        # Methods\n",
    "        method_entries = [Line2D([0], [0],                                 \n",
    "                                 linestyle='None',\n",
    "                                 marker='s',\n",
    "                                 markersize=8,\n",
    "                                 **method_markers[name]) for name in used_methods]\n",
    "        method_strings = [disp_names[name] for name in used_methods]\n",
    "        # n\n",
    "        sample_size_entries = [Line2D([0], [0], linestyle='None', color='gray', marker=markers_n[n]) for n in used_ns]\n",
    "        sample_size_strings = [\"$n = %d$\" % n for n in used_ns]\n",
    "        # Putting it all together\n",
    "        entries = method_entries + sample_size_entries\n",
    "        strings = method_strings + sample_size_strings\n",
    "        pos, ncol = legend\n",
    "        ax.legend(entries, strings, bbox_to_anchor=pos, ncol=ncol)#len(entries))\n",
    "    \n",
    "    # Other formatting\n",
    "    #ax.set_ylim(lim)\n",
    "    #ax.set_xlim(lim)\n",
    "    ax.set_xlabel(\"avg. FDP\")\n",
    "    if xticks is not None:\n",
    "        ax.set_xticks(xticks)\n",
    "        ax.set_xticklabels(xticks)\n",
    "    ax.set_yticks(yticks)\n",
    "    ax.set_yticklabels([])\n",
    "    ax.set_ylim([-0.04, 1.04])\n",
    "    if label_y:        \n",
    "        ax.set_yticklabels(yticks)\n",
    "        ax.set_ylabel(\"avg. TDP\")        "
   ]
  },
  {
   "cell_type": "markdown",
   "metadata": {},
   "source": [
    "## Figure 4"
   ]
  },
  {
   "cell_type": "code",
   "execution_count": 7,
   "metadata": {},
   "outputs": [],
   "source": [
    "files_hs = [\n",
    "[\n",
    "\"comparison_experiments/results_1647797913__cluster:1_seed:42_tag:fffchs_disc:15_runs:10_m:ubil_min_parents:2_G:50_k:2.1_p:20_w_lo:0.7_w_hi:0.7_v_lo:0.5_v_hi:0.6_i_v_lo:6.0_i_v_hi:12.0_psi_lo:0.2_psi_hi:0.3_i_psi_lo:0.2_i_psi_hi:1.0_h:2_e:5_size_I:10_it:0_sl:0_n:1000/compiled_results.pickle\",\n",
    "\"comparison_experiments/results_1647797914__cluster:1_seed:42_tag:fffchs_disc:15_runs:10_m:ubil_min_parents:2_G:50_k:2.1_p:20_w_lo:0.7_w_hi:0.7_v_lo:0.5_v_hi:0.6_i_v_lo:6.0_i_v_hi:12.0_psi_lo:0.2_psi_hi:0.3_i_psi_lo:0.2_i_psi_hi:1.0_h:2_e:5_size_I:10_it:0_sl:0_n:100/compiled_results.pickle\",\n",
    "\"comparison_experiments/results_1647797915__cluster:1_seed:42_tag:fffchs_disc:15_runs:10_m:ubil_min_parents:2_G:50_k:2.1_p:20_w_lo:0.7_w_hi:0.7_v_lo:0.5_v_hi:0.6_i_v_lo:6.0_i_v_hi:12.0_psi_lo:0.2_psi_hi:0.3_i_psi_lo:0.2_i_psi_hi:1.0_h:2_e:5_size_I:10_it:0_sl:0_n:500/compiled_results.pickle\",\n",
    "],\n",
    "[\n",
    "\"comparison_experiments/results_1647797919__cluster:1_seed:42_tag:fffchs_disc:15_runs:10_m:ubil_min_parents:2_G:50_k:2.1_p:20_w_lo:0.7_w_hi:0.7_v_lo:0.5_v_hi:0.6_i_v_lo:6.0_i_v_hi:12.0_psi_lo:0.2_psi_hi:0.3_i_psi_lo:0.2_i_psi_hi:1.0_h:2_e:5_size_I:19_it:0_sl:0_n:100/compiled_results.pickle\",\n",
    "\"comparison_experiments/results_1647797919__cluster:1_seed:42_tag:fffchs_disc:15_runs:10_m:ubil_min_parents:2_G:50_k:2.1_p:20_w_lo:0.7_w_hi:0.7_v_lo:0.5_v_hi:0.6_i_v_lo:6.0_i_v_hi:12.0_psi_lo:0.2_psi_hi:0.3_i_psi_lo:0.2_i_psi_hi:1.0_h:2_e:5_size_I:19_it:0_sl:0_n:1000/compiled_results.pickle\",\n",
    "\"comparison_experiments/results_1647797919__cluster:1_seed:42_tag:fffchs_disc:15_runs:10_m:ubil_min_parents:2_G:50_k:2.1_p:20_w_lo:0.7_w_hi:0.7_v_lo:0.5_v_hi:0.6_i_v_lo:6.0_i_v_hi:12.0_psi_lo:0.2_psi_hi:0.3_i_psi_lo:0.2_i_psi_hi:1.0_h:2_e:5_size_I:19_it:0_sl:0_n:500/compiled_results.pickle\",\n",
    "],\n",
    "[\n",
    "\"comparison_experiments/results_1647797920__cluster:1_seed:42_tag:fffchs_disc:15_runs:10_m:ubil_min_parents:2_G:50_k:2.1_p:20_w_lo:0.7_w_hi:0.7_v_lo:0.5_v_hi:0.6_i_v_lo:6.0_i_v_hi:12.0_psi_lo:0.2_psi_hi:0.3_i_psi_lo:0.2_i_psi_hi:1.0_h:2_e:5_size_I:20_it:1_sl:0_n:100/compiled_results.pickle\",\n",
    "\"comparison_experiments/results_1647797920__cluster:1_seed:42_tag:fffchs_disc:15_runs:10_m:ubil_min_parents:2_G:50_k:2.1_p:20_w_lo:0.7_w_hi:0.7_v_lo:0.5_v_hi:0.6_i_v_lo:6.0_i_v_hi:12.0_psi_lo:0.2_psi_hi:0.3_i_psi_lo:0.2_i_psi_hi:1.0_h:2_e:5_size_I:20_it:1_sl:0_n:1000/compiled_results.pickle\",\n",
    "\"comparison_experiments/results_1647797920__cluster:1_seed:42_tag:fffchs_disc:15_runs:10_m:ubil_min_parents:2_G:50_k:2.1_p:20_w_lo:0.7_w_hi:0.7_v_lo:0.5_v_hi:0.6_i_v_lo:6.0_i_v_hi:12.0_psi_lo:0.2_psi_hi:0.3_i_psi_lo:0.2_i_psi_hi:1.0_h:2_e:5_size_I:20_it:1_sl:0_n:500/compiled_results.pickle\",\n",
    "]]"
   ]
  },
  {
   "cell_type": "code",
   "execution_count": 8,
   "metadata": {},
   "outputs": [
    {
     "name": "stdout",
     "output_type": "stream",
     "text": [
      "  |I^\\star| = 10\n",
      "    n = 1000\n",
      "      method = UT-LVCE\n",
      "      method = backShift\n",
      "      method = LRPS+GES\n",
      "    n = 100\n",
      "      method = UT-LVCE\n",
      "      method = backShift\n",
      "      method = LRPS+GES\n",
      "    n = 500\n",
      "      method = UT-LVCE\n",
      "      method = backShift\n",
      "      method = LRPS+GES\n",
      "  |I^\\star| = 19\n",
      "    n = 100\n",
      "      method = UT-LVCE\n",
      "      method = backShift\n",
      "      method = LRPS+GES\n",
      "    n = 1000\n",
      "      method = UT-LVCE\n",
      "      method = backShift\n",
      "      method = LRPS+GES\n",
      "    n = 500\n",
      "      method = UT-LVCE\n",
      "      method = backShift\n",
      "      method = LRPS+GES\n",
      "  |I^\\star| = 20\n",
      "    n = 100\n",
      "      method = UT-LVCE\n",
      "      method = backShift\n",
      "      method = LRPS+GES\n",
      "    n = 1000\n",
      "      method = UT-LVCE\n",
      "      method = backShift\n",
      "      method = LRPS+GES\n",
      "    n = 500\n",
      "      method = UT-LVCE\n",
      "      method = backShift\n",
      "      method = LRPS+GES\n"
     ]
    }
   ],
   "source": [
    "values_parents,_,_ = process_results(files_hs, debug=False, what='parents')\n",
    "values_graphs,_,_  = process_results(files_hs, debug=True, what='graphs')"
   ]
  },
  {
   "cell_type": "code",
   "execution_count": 27,
   "metadata": {},
   "outputs": [
    {
     "data": {
      "image/png": "[encoded data removed]",
      "text/plain": [
       "<Figure size 900x180 with 5 Axes>"
      ]
     },
     "metadata": {
      "needs_background": "light"
     },
     "output_type": "display_data"
    }
   ],
   "source": [
    "w = 2.5\n",
    "plt.figure(figsize=(5*w,w))\n",
    "outer = gridspec.GridSpec(1, 2, wspace=0.04, width_ratios=[2/5, 3/5], hspace=0)\n",
    "inner1 = gridspec.GridSpecFromSubplotSpec(1, 2, subplot_spec = outer[0], wspace=0.05)\n",
    "inner2 = gridspec.GridSpecFromSubplotSpec(1, 3, subplot_spec = outer[1], wspace=0.05)\n",
    "\n",
    "# Plot 1\n",
    "I = 10\n",
    "plt.subplot(inner1[0])\n",
    "ax = plt.gca()\n",
    "plot_roc_I(ax, values_graphs[I], label_y=True, xticks=[0, 0.25, 0.5, 0.75, 1])\n",
    "ax.set_title(\"I-MEC recovery, $|I^\\star|=%d$\" % I)\n",
    "ax.set_xlim([-0.04, 1])\n",
    "\n",
    "# Plot 2\n",
    "I = 20\n",
    "plt.subplot(inner1[1])\n",
    "ax = plt.gca()\n",
    "plot_roc_I(ax, values_graphs[I], xticks=[0, 0.25, 0.5, 0.75, 1])\n",
    "ax.set_title(\"I-MEC recovery, $|I^\\star|=%d$\" % I)\n",
    "ax.set_xlim([-0.04, 1])\n",
    "\n",
    "# Plot 3\n",
    "I = 10\n",
    "plt.subplot(inner2[0])\n",
    "ax = plt.gca()\n",
    "plot_roc_I(ax, values_parents[I], xticks=[0, 0.05, 0.1, 0.15, 0.2, 0.25])\n",
    "ax.set_title(\"Parent recovery, $|I^\\star|=%d$\" % I)\n",
    "ax.set_xlim([-0.01, 0.27])\n",
    "\n",
    "# Plot 4\n",
    "I = 19\n",
    "plt.subplot(inner2[1])\n",
    "ax = plt.gca()\n",
    "plot_roc_I(ax, values_parents[I], xticks=[0, 0.05, 0.1, 0.15, 0.2, 0.25])\n",
    "ax.set_title(\"Parent recovery, $|I^\\star|=%d$\" % I)\n",
    "ax.set_xlim([-0.01, 0.27])\n",
    "\n",
    "# Plot 5\n",
    "I = 20\n",
    "plt.subplot(inner2[2])\n",
    "ax = plt.gca()\n",
    "plot_roc_I(ax, values_parents[I], xticks=[0, 0.05, 0.1, 0.15, 0.2, 0.25], legend=((0.9,-0.3),8))\n",
    "ax.set_title(\"Parent recovery, $|I^\\star|=%d$\" % I)\n",
    "ax.set_xlim([-0.01, 0.27])\n",
    "\n",
    "\n",
    "# Save plot\n",
    "plt.savefig(\"figures/figure_comparisons_all.pdf\", bbox_inches='tight')"
   ]
  },
  {
   "cell_type": "markdown",
   "metadata": {},
   "source": [
    "## Figure 9: violations of the Causal Dantzig assumptions"
   ]
  },
  {
   "cell_type": "code",
   "execution_count": 10,
   "metadata": {},
   "outputs": [],
   "source": [
    "files_sh = [[\n",
    "\"comparison_experiments/results_1647797917__cluster:1_seed:42_tag:fffcsh_disc:15_runs:10_m:ubil_min_parents:2_G:50_k:2.1_p:20_w_lo:0.7_w_hi:0.7_v_lo:0.5_v_hi:0.6_i_v_lo:3.0_i_v_hi:6.0_psi_lo:0.2_psi_hi:0.3_i_psi_lo:1.0_i_psi_hi:5.0_h:2_e:5_size_I:19_it:0_sl:0_n:100/compiled_results.pickle\",\n",
    "\"comparison_experiments/results_1647797918__cluster:1_seed:42_tag:fffcsh_disc:15_runs:10_m:ubil_min_parents:2_G:50_k:2.1_p:20_w_lo:0.7_w_hi:0.7_v_lo:0.5_v_hi:0.6_i_v_lo:3.0_i_v_hi:6.0_psi_lo:0.2_psi_hi:0.3_i_psi_lo:1.0_i_psi_hi:5.0_h:2_e:5_size_I:19_it:0_sl:0_n:500/compiled_results.pickle\",\n",
    "\"comparison_experiments/results_1647797919__cluster:1_seed:42_tag:fffcsh_disc:15_runs:10_m:ubil_min_parents:2_G:50_k:2.1_p:20_w_lo:0.7_w_hi:0.7_v_lo:0.5_v_hi:0.6_i_v_lo:3.0_i_v_hi:6.0_psi_lo:0.2_psi_hi:0.3_i_psi_lo:1.0_i_psi_hi:5.0_h:2_e:5_size_I:19_it:0_sl:0_n:10000/compiled_results.pickle\",\n",
    "\"comparison_experiments/results_1647797922__cluster:1_seed:42_tag:fffcsh_disc:15_runs:10_m:ubil_min_parents:2_G:50_k:2.1_p:20_w_lo:0.7_w_hi:0.7_v_lo:0.5_v_hi:0.6_i_v_lo:3.0_i_v_hi:6.0_psi_lo:0.2_psi_hi:0.3_i_psi_lo:1.0_i_psi_hi:5.0_h:2_e:5_size_I:19_it:0_sl:0_n:1000/compiled_results.pickle\",\n",
    "]]\n",
    "\n",
    "files_ss = [\n",
    "[\n",
    "\"comparison_experiments/results_1647797894__cluster:1_seed:42_tag:fffcss_disc:15_runs:10_m:ubil_min_parents:2_G:50_k:2.1_p:20_w_lo:0.7_w_hi:0.7_v_lo:0.5_v_hi:0.6_i_v_lo:3.0_i_v_hi:6.0_psi_lo:0.2_psi_hi:0.3_i_psi_lo:0.2_i_psi_hi:1.0_h:2_e:5_size_I:19_it:0_sl:0_n:500/compiled_results.pickle\",\n",
    "\"comparison_experiments/results_1647797935__cluster:1_seed:42_tag:fffcss_disc:15_runs:10_m:ubil_min_parents:2_G:50_k:2.1_p:20_w_lo:0.7_w_hi:0.7_v_lo:0.5_v_hi:0.6_i_v_lo:3.0_i_v_hi:6.0_psi_lo:0.2_psi_hi:0.3_i_psi_lo:0.2_i_psi_hi:1.0_h:2_e:5_size_I:19_it:0_sl:0_n:10000/compiled_results.pickle\",\n",
    "\"comparison_experiments/results_1647797947__cluster:1_seed:42_tag:fffcss_disc:15_runs:10_m:ubil_min_parents:2_G:50_k:2.1_p:20_w_lo:0.7_w_hi:0.7_v_lo:0.5_v_hi:0.6_i_v_lo:3.0_i_v_hi:6.0_psi_lo:0.2_psi_hi:0.3_i_psi_lo:0.2_i_psi_hi:1.0_h:2_e:5_size_I:19_it:0_sl:0_n:100/compiled_results.pickle\",\n",
    "\"comparison_experiments/results_1647797964__cluster:1_seed:42_tag:fffcss_disc:15_runs:10_m:ubil_min_parents:2_G:50_k:2.1_p:20_w_lo:0.7_w_hi:0.7_v_lo:0.5_v_hi:0.6_i_v_lo:3.0_i_v_hi:6.0_psi_lo:0.2_psi_hi:0.3_i_psi_lo:0.2_i_psi_hi:1.0_h:2_e:5_size_I:19_it:0_sl:0_n:1000/compiled_results.pickle\",\n",
    "],\n",
    "[\n",
    "\"comparison_experiments/results_1647797897__cluster:1_seed:42_tag:fffcss_disc:15_runs:10_m:ubil_min_parents:2_G:50_k:2.1_p:20_w_lo:0.7_w_hi:0.7_v_lo:0.5_v_hi:0.6_i_v_lo:3.0_i_v_hi:6.0_psi_lo:0.2_psi_hi:0.3_i_psi_lo:0.2_i_psi_hi:1.0_h:2_e:5_size_I:20_it:1_sl:0_n:500/compiled_results.pickle\",\n",
    "\"comparison_experiments/results_1647797899__cluster:1_seed:42_tag:fffcss_disc:15_runs:10_m:ubil_min_parents:2_G:50_k:2.1_p:20_w_lo:0.7_w_hi:0.7_v_lo:0.5_v_hi:0.6_i_v_lo:3.0_i_v_hi:6.0_psi_lo:0.2_psi_hi:0.3_i_psi_lo:0.2_i_psi_hi:1.0_h:2_e:5_size_I:20_it:1_sl:0_n:100/compiled_results.pickle\",\n",
    "\"comparison_experiments/results_1647797902__cluster:1_seed:42_tag:fffcss_disc:15_runs:10_m:ubil_min_parents:2_G:50_k:2.1_p:20_w_lo:0.7_w_hi:0.7_v_lo:0.5_v_hi:0.6_i_v_lo:3.0_i_v_hi:6.0_psi_lo:0.2_psi_hi:0.3_i_psi_lo:0.2_i_psi_hi:1.0_h:2_e:5_size_I:20_it:1_sl:0_n:10000/compiled_results.pickle\",\n",
    "\"comparison_experiments/results_1647797910__cluster:1_seed:42_tag:fffcss_disc:15_runs:10_m:ubil_min_parents:2_G:50_k:2.1_p:20_w_lo:0.7_w_hi:0.7_v_lo:0.5_v_hi:0.6_i_v_lo:3.0_i_v_hi:6.0_psi_lo:0.2_psi_hi:0.3_i_psi_lo:0.2_i_psi_hi:1.0_h:2_e:5_size_I:20_it:1_sl:0_n:1000/compiled_results.pickle\",\n",
    "]]"
   ]
  },
  {
   "cell_type": "code",
   "execution_count": 11,
   "metadata": {},
   "outputs": [],
   "source": [
    "values_parents_ss, _, _ = process_results(files_ss, debug=False, what='parents', exclude=['LRPS+GES', 'backShift'])\n",
    "values_parents_sh, _, _  = process_results(files_sh, debug=False, what='parents', exclude=['LRPS+GES', 'backShift'])"
   ]
  },
  {
   "cell_type": "code",
   "execution_count": 12,
   "metadata": {},
   "outputs": [
    {
     "data": {
      "image/png": "[encoded data removed]",
      "text/plain": [
       "<Figure size 750x250 with 3 Axes>"
      ]
     },
     "metadata": {
      "needs_background": "light"
     },
     "output_type": "display_data"
    }
   ],
   "source": [
    "w = 2.5\n",
    "xticks = [0, 0.25, 0.5, 0.75, 1]#, 1]#[0, 0.1, 0.2, 0.3]\n",
    "xlim = [-0.03,1]#[-0.02, 0.78]\n",
    "plt.figure(figsize=(3*w,w), dpi=100)\n",
    "gs = gridspec.GridSpec(1, 3, wspace=0.05, hspace=0)\n",
    "\n",
    "# Plot 1: I = 20, soft interventions\n",
    "I = 20\n",
    "plt.subplot(gs[0])\n",
    "ax = plt.gca()\n",
    "plot_roc_I(ax, values_parents_ss[I], label_y=True, xticks=xticks,legend=None)\n",
    "ax.set_title(\"Soft interventions\\non latents, $|I^\\star|=%d$\" % I)\n",
    "ax.set_xlim(xlim)\n",
    "\n",
    "# Plot 1: I = 19, soft interventions\n",
    "I = 19\n",
    "plt.subplot(gs[1])\n",
    "ax = plt.gca()\n",
    "plot_roc_I(ax, values_parents_ss[I], label_y=False, xticks=xticks,legend=None)\n",
    "ax.set_title(\"Soft interventions\\non latents, $|I^\\star|=%d$\" % I)\n",
    "ax.set_xlim(xlim)\n",
    "\n",
    "# Plot 3: I = 19, strong interventions\n",
    "I = 19\n",
    "plt.subplot(gs[2])\n",
    "ax = plt.gca()\n",
    "plot_roc_I(ax, values_parents_sh[I], label_y=False, xticks=xticks,legend=((1,1.03),1)) # ((1, 0.6),1))\n",
    "ax.set_title(\"Strong interventions\\non latents, $|I^\\star|=%d$\" % I)\n",
    "ax.set_xlim(xlim)\n",
    "\n",
    "filename = \"figure_dantzig_assumptions.pdf\"\n",
    "if filename is not None:\n",
    "    plt.savefig(\"figures/%s\" % filename, bbox_inches='tight')"
   ]
  },
  {
   "cell_type": "markdown",
   "metadata": {},
   "source": [
    "## Figure 7: Robustness to different intervention strengths"
   ]
  },
  {
   "cell_type": "code",
   "execution_count": 13,
   "metadata": {},
   "outputs": [],
   "source": [
    "files_hh = [[\n",
    "\"comparison_experiments/results_1647797914__cluster:1_seed:42_tag:fffchh_disc:15_runs:10_m:ubil_min_parents:2_G:50_k:2.1_p:20_w_lo:0.7_w_hi:0.7_v_lo:0.5_v_hi:0.6_i_v_lo:6.0_i_v_hi:12.0_psi_lo:0.2_psi_hi:0.3_i_psi_lo:1.0_i_psi_hi:5.0_h:2_e:5_size_I:10_it:0_sl:0_n:100/compiled_results.pickle\",\n",
    "\"comparison_experiments/results_1647797917__cluster:1_seed:42_tag:fffchh_disc:15_runs:10_m:ubil_min_parents:2_G:50_k:2.1_p:20_w_lo:0.7_w_hi:0.7_v_lo:0.5_v_hi:0.6_i_v_lo:6.0_i_v_hi:12.0_psi_lo:0.2_psi_hi:0.3_i_psi_lo:1.0_i_psi_hi:5.0_h:2_e:5_size_I:10_it:0_sl:0_n:1000/compiled_results.pickle\",\n",
    "\"comparison_experiments/results_1647797918__cluster:1_seed:42_tag:fffchh_disc:15_runs:10_m:ubil_min_parents:2_G:50_k:2.1_p:20_w_lo:0.7_w_hi:0.7_v_lo:0.5_v_hi:0.6_i_v_lo:6.0_i_v_hi:12.0_psi_lo:0.2_psi_hi:0.3_i_psi_lo:1.0_i_psi_hi:5.0_h:2_e:5_size_I:10_it:0_sl:0_n:500/compiled_results.pickle\",\n",
    "]]\n",
    "\n",
    "files_hs = [[\n",
    "\"comparison_experiments/results_1647797913__cluster:1_seed:42_tag:fffchs_disc:15_runs:10_m:ubil_min_parents:2_G:50_k:2.1_p:20_w_lo:0.7_w_hi:0.7_v_lo:0.5_v_hi:0.6_i_v_lo:6.0_i_v_hi:12.0_psi_lo:0.2_psi_hi:0.3_i_psi_lo:0.2_i_psi_hi:1.0_h:2_e:5_size_I:10_it:0_sl:0_n:1000/compiled_results.pickle\",\n",
    "\"comparison_experiments/results_1647797914__cluster:1_seed:42_tag:fffchs_disc:15_runs:10_m:ubil_min_parents:2_G:50_k:2.1_p:20_w_lo:0.7_w_hi:0.7_v_lo:0.5_v_hi:0.6_i_v_lo:6.0_i_v_hi:12.0_psi_lo:0.2_psi_hi:0.3_i_psi_lo:0.2_i_psi_hi:1.0_h:2_e:5_size_I:10_it:0_sl:0_n:100/compiled_results.pickle\",\n",
    "\"comparison_experiments/results_1647797915__cluster:1_seed:42_tag:fffchs_disc:15_runs:10_m:ubil_min_parents:2_G:50_k:2.1_p:20_w_lo:0.7_w_hi:0.7_v_lo:0.5_v_hi:0.6_i_v_lo:6.0_i_v_hi:12.0_psi_lo:0.2_psi_hi:0.3_i_psi_lo:0.2_i_psi_hi:1.0_h:2_e:5_size_I:10_it:0_sl:0_n:500/compiled_results.pickle\",\n",
    "]]\n",
    "\n",
    "files_sh = [[\n",
    "\"comparison_experiments/results_1647797912__cluster:1_seed:42_tag:fffcsh_disc:15_runs:10_m:ubil_min_parents:2_G:50_k:2.1_p:20_w_lo:0.7_w_hi:0.7_v_lo:0.5_v_hi:0.6_i_v_lo:3.0_i_v_hi:6.0_psi_lo:0.2_psi_hi:0.3_i_psi_lo:1.0_i_psi_hi:5.0_h:2_e:5_size_I:10_it:0_sl:0_n:100/compiled_results.pickle\",\n",
    "\"comparison_experiments/results_1647797912__cluster:1_seed:42_tag:fffcsh_disc:15_runs:10_m:ubil_min_parents:2_G:50_k:2.1_p:20_w_lo:0.7_w_hi:0.7_v_lo:0.5_v_hi:0.6_i_v_lo:3.0_i_v_hi:6.0_psi_lo:0.2_psi_hi:0.3_i_psi_lo:1.0_i_psi_hi:5.0_h:2_e:5_size_I:10_it:0_sl:0_n:1000/compiled_results.pickle\",\n",
    "\"comparison_experiments/results_1647797915__cluster:1_seed:42_tag:fffcsh_disc:15_runs:10_m:ubil_min_parents:2_G:50_k:2.1_p:20_w_lo:0.7_w_hi:0.7_v_lo:0.5_v_hi:0.6_i_v_lo:3.0_i_v_hi:6.0_psi_lo:0.2_psi_hi:0.3_i_psi_lo:1.0_i_psi_hi:5.0_h:2_e:5_size_I:10_it:0_sl:0_n:500/compiled_results.pickle\",\n",
    "]]\n",
    "\n",
    "files_ss = [[\n",
    "\"comparison_experiments/results_1647797915__cluster:1_seed:42_tag:fffcss_disc:15_runs:10_m:ubil_min_parents:2_G:50_k:2.1_p:20_w_lo:0.7_w_hi:0.7_v_lo:0.5_v_hi:0.6_i_v_lo:3.0_i_v_hi:6.0_psi_lo:0.2_psi_hi:0.3_i_psi_lo:0.2_i_psi_hi:1.0_h:2_e:5_size_I:10_it:0_sl:0_n:1000/compiled_results.pickle\",\n",
    "\"comparison_experiments/results_1647797915__cluster:1_seed:42_tag:fffcss_disc:15_runs:10_m:ubil_min_parents:2_G:50_k:2.1_p:20_w_lo:0.7_w_hi:0.7_v_lo:0.5_v_hi:0.6_i_v_lo:3.0_i_v_hi:6.0_psi_lo:0.2_psi_hi:0.3_i_psi_lo:0.2_i_psi_hi:1.0_h:2_e:5_size_I:10_it:0_sl:0_n:500/compiled_results.pickle\",\n",
    "\"comparison_experiments/results_1647797917__cluster:1_seed:42_tag:fffcss_disc:15_runs:10_m:ubil_min_parents:2_G:50_k:2.1_p:20_w_lo:0.7_w_hi:0.7_v_lo:0.5_v_hi:0.6_i_v_lo:3.0_i_v_hi:6.0_psi_lo:0.2_psi_hi:0.3_i_psi_lo:0.2_i_psi_hi:1.0_h:2_e:5_size_I:10_it:0_sl:0_n:100/compiled_results.pickle\",\n",
    "]]"
   ]
  },
  {
   "cell_type": "code",
   "execution_count": 14,
   "metadata": {},
   "outputs": [],
   "source": [
    "exclude = ['backShift'] # ['LRPS+GES', 'backShift']"
   ]
  },
  {
   "cell_type": "code",
   "execution_count": 15,
   "metadata": {},
   "outputs": [],
   "source": [
    "values_ss, _, _ = process_results(files_ss, debug=False, what='graphs', exclude=exclude)"
   ]
  },
  {
   "cell_type": "code",
   "execution_count": 16,
   "metadata": {},
   "outputs": [],
   "source": [
    "values_sh, _, _ = process_results(files_sh, debug=False, what='graphs', exclude=exclude)"
   ]
  },
  {
   "cell_type": "code",
   "execution_count": 17,
   "metadata": {},
   "outputs": [],
   "source": [
    "values_hs, _, _ = process_results(files_hs, debug=False, what='graphs', exclude=exclude)"
   ]
  },
  {
   "cell_type": "code",
   "execution_count": 18,
   "metadata": {},
   "outputs": [],
   "source": [
    "values_hh, _, _ = process_results(files_hh, debug=False, what='graphs', exclude=exclude)"
   ]
  },
  {
   "cell_type": "code",
   "execution_count": 19,
   "metadata": {},
   "outputs": [
    {
     "data": {
      "image/png": "[encoded data removed]",
      "text/plain": [
       "<Figure size 500x500 with 4 Axes>"
      ]
     },
     "metadata": {
      "needs_background": "light"
     },
     "output_type": "display_data"
    }
   ],
   "source": [
    "w = 2.5\n",
    "xticks = [0, 0.25, 0.5, 0.75, 1]#[0, 0.1, 0.2, 0.3]\n",
    "plt.figure(figsize=(2*w,2*w), dpi=100)\n",
    "gs = gridspec.GridSpec(2, 2, wspace=0.07, hspace=0.07)\n",
    "\n",
    "I = 10\n",
    "s = 10\n",
    "\n",
    "# Plot\n",
    "plt.subplot(gs[0,0])\n",
    "ax = plt.gca()\n",
    "plot_roc_I(ax, values_ss[I], label_y=True, xticks=xticks,legend=None)\n",
    "ax.set_title(\"Soft interventions on latents\", size=s)\n",
    "ax.set_xticklabels([])\n",
    "ax.set_ylim([0,1])\n",
    "\n",
    "# Plot\n",
    "plt.subplot(gs[1,0])\n",
    "ax = plt.gca()\n",
    "plot_roc_I(ax, values_hs[I], label_y=True, xticks=xticks,legend=None)\n",
    "ax.set_ylim([0,1])\n",
    "\n",
    "# Plot\n",
    "plt.subplot(gs[0,1])\n",
    "ax = plt.gca()\n",
    "plot_roc_I(ax, values_sh[I], label_y=False, xticks=xticks,legend=None)\n",
    "ax.set_title(\"Strong interventions on latents\", size=s)\n",
    "ax.text(1.1,0.5,\"Soft interventions\\non observed variables\", ha='center', va='center', rotation=270, size=s)\n",
    "ax.text(1.1,-0.6,\"Strong interventions\\non observed variables\", ha='center', va='center', rotation=270, size=s)\n",
    "ax.set_xticklabels([])\n",
    "ax.set_ylim([0,1])\n",
    "\n",
    "# Plot\n",
    "plt.subplot(gs[1,1])\n",
    "ax = plt.gca()\n",
    "plot_roc_I(ax, values_hh[I], label_y=False, xticks=xticks,legend=((1,0.65),1))\n",
    "ax.set_title(\"\", size=s)\n",
    "ax.set_ylim([0,1])\n",
    "\n",
    "filename = \"figure_robustness.pdf\"\n",
    "if filename is not None:\n",
    "    plt.savefig(\"figures/%s\" % filename, bbox_inches='tight')"
   ]
  },
  {
   "cell_type": "markdown",
   "metadata": {},
   "source": [
    "## Figure 8: Effect of GES estimate not being a supergraph of the true I-MEC"
   ]
  },
  {
   "cell_type": "code",
   "execution_count": 20,
   "metadata": {},
   "outputs": [],
   "source": [
    "files_hs = [\n",
    "[\n",
    "\"comparison_experiments/results_1647797913__cluster:1_seed:42_tag:fffchs_disc:15_runs:10_m:ubil_min_parents:2_G:50_k:2.1_p:20_w_lo:0.7_w_hi:0.7_v_lo:0.5_v_hi:0.6_i_v_lo:6.0_i_v_hi:12.0_psi_lo:0.2_psi_hi:0.3_i_psi_lo:0.2_i_psi_hi:1.0_h:2_e:5_size_I:10_it:0_sl:0_n:1000/compiled_results.pickle\",\n",
    "\"comparison_experiments/results_1647797914__cluster:1_seed:42_tag:fffchs_disc:15_runs:10_m:ubil_min_parents:2_G:50_k:2.1_p:20_w_lo:0.7_w_hi:0.7_v_lo:0.5_v_hi:0.6_i_v_lo:6.0_i_v_hi:12.0_psi_lo:0.2_psi_hi:0.3_i_psi_lo:0.2_i_psi_hi:1.0_h:2_e:5_size_I:10_it:0_sl:0_n:100/compiled_results.pickle\",\n",
    "\"comparison_experiments/results_1647797915__cluster:1_seed:42_tag:fffchs_disc:15_runs:10_m:ubil_min_parents:2_G:50_k:2.1_p:20_w_lo:0.7_w_hi:0.7_v_lo:0.5_v_hi:0.6_i_v_lo:6.0_i_v_hi:12.0_psi_lo:0.2_psi_hi:0.3_i_psi_lo:0.2_i_psi_hi:1.0_h:2_e:5_size_I:10_it:0_sl:0_n:500/compiled_results.pickle\",\n",
    "],\n",
    "[\n",
    "\"comparison_experiments/results_1647797920__cluster:1_seed:42_tag:fffchs_disc:15_runs:10_m:ubil_min_parents:2_G:50_k:2.1_p:20_w_lo:0.7_w_hi:0.7_v_lo:0.5_v_hi:0.6_i_v_lo:6.0_i_v_hi:12.0_psi_lo:0.2_psi_hi:0.3_i_psi_lo:0.2_i_psi_hi:1.0_h:2_e:5_size_I:20_it:1_sl:0_n:100/compiled_results.pickle\",\n",
    "\"comparison_experiments/results_1647797920__cluster:1_seed:42_tag:fffchs_disc:15_runs:10_m:ubil_min_parents:2_G:50_k:2.1_p:20_w_lo:0.7_w_hi:0.7_v_lo:0.5_v_hi:0.6_i_v_lo:6.0_i_v_hi:12.0_psi_lo:0.2_psi_hi:0.3_i_psi_lo:0.2_i_psi_hi:1.0_h:2_e:5_size_I:20_it:1_sl:0_n:1000/compiled_results.pickle\",\n",
    "\"comparison_experiments/results_1647797920__cluster:1_seed:42_tag:fffchs_disc:15_runs:10_m:ubil_min_parents:2_G:50_k:2.1_p:20_w_lo:0.7_w_hi:0.7_v_lo:0.5_v_hi:0.6_i_v_lo:6.0_i_v_hi:12.0_psi_lo:0.2_psi_hi:0.3_i_psi_lo:0.2_i_psi_hi:1.0_h:2_e:5_size_I:20_it:1_sl:0_n:500/compiled_results.pickle\",\n",
    "]]"
   ]
  },
  {
   "cell_type": "code",
   "execution_count": 21,
   "metadata": {},
   "outputs": [],
   "source": [
    "def plot_roc_bin(ax,values_yes,values_no,mean=True,label_y=False,xticks=None,legend=None):\n",
    "    # Parameters\n",
    "    marker_opts =  [{'fillstyle': 'right', 'markerfacecolor': colors[0], 'markerfacecoloralt': colorsa[0], 'markeredgecolor': colorsb[0]},\n",
    "                    {'fillstyle': 'top', 'markerfacecolor': colors[2], 'markerfacecoloralt': colorsa[2], 'markeredgecolor': colorsb[2]}]\n",
    "    markers_n = dict(zip([100,500,1000,10000], ['D', 'o', 'X', '.']))\n",
    "    yticks = [0, 0.2, 0.4, 0.6, 0.8, 1]\n",
    "    # Plot\n",
    "    for i,values in enumerate([values_yes, values_no]):\n",
    "        used_ns, used_methods = set(), set()   \n",
    "        for n, dict_n in values.items():\n",
    "            used_ns.add(n)\n",
    "            for name, (t1,t2) in dict_n.items():\n",
    "                used_methods.add(name)\n",
    "                x, y = (t1.mean(),1-t2.mean()) if mean else (t1, 1-t2)\n",
    "                ax.plot(x, y,\n",
    "                        marker=markers_n[n],\n",
    "                        markersize=9,\n",
    "                        zorder=10 + n,\n",
    "                        clip_on=False,\n",
    "                        markeredgewidth=0.7,\n",
    "                        **marker_opts[i])\n",
    "    # Compose legend\n",
    "    if legend is not None:\n",
    "        used_ns = sorted(used_ns)\n",
    "\n",
    "        # Methods\n",
    "        method_entries = [Line2D([0], [0],                                 \n",
    "                                 linestyle='None',\n",
    "                                 marker='s',\n",
    "                                 markersize=8,\n",
    "                                 **marker_opts[j]) for j in [0,1]]\n",
    "        method_strings = [\"Yes\", \"No\"]\n",
    "        # n\n",
    "        sample_size_entries = [Line2D([0], [0], linestyle='None', color='gray', marker=markers_n[n]) for n in used_ns]\n",
    "        sample_size_strings = [\"$n = %d$\" % n for n in used_ns]\n",
    "        # Putting it all together\n",
    "        entries = method_entries + sample_size_entries\n",
    "        strings = method_strings + sample_size_strings\n",
    "        pos, ncol = legend\n",
    "        ax.legend(entries, strings, bbox_to_anchor=pos, ncol=ncol, title=\"GES output\\ncontains\\nsupergraph\", prop = {'size': 8}, title_fontsize=10)\n",
    "    \n",
    "    # Other formatting\n",
    "    #ax.set_ylim(lim)\n",
    "    #ax.set_xlim(lim)\n",
    "    ax.set_xlabel(\"avg. FDP\")\n",
    "    if xticks is not None:\n",
    "        ax.set_xticks(xticks)\n",
    "        ax.set_xticklabels(xticks)\n",
    "    ax.set_yticks(yticks)\n",
    "    ax.set_yticklabels([])\n",
    "    ax.set_ylim([-0.04, 1.04])\n",
    "    if label_y:        \n",
    "        ax.set_yticklabels(yticks)\n",
    "        ax.set_ylabel(\"avg. TDP\")        "
   ]
  },
  {
   "cell_type": "code",
   "execution_count": 22,
   "metadata": {},
   "outputs": [],
   "source": [
    "values_hs, supergraphs_hs, size_initial_graphs_hs = process_results(files_hs, debug=False, what='graphs', exclude=exclude)"
   ]
  },
  {
   "cell_type": "markdown",
   "metadata": {},
   "source": [
    "**Partition results into cases where GES output contained at least one supergraph of an I-MEC representative**"
   ]
  },
  {
   "cell_type": "code",
   "execution_count": 23,
   "metadata": {},
   "outputs": [],
   "source": [
    "values_hs_yes = {}\n",
    "values_hs_no = {}\n",
    "for size_I,dict_I in values_hs.items():\n",
    "    #print(size_I)\n",
    "    yes_dict_I, no_dict_I = {}, {}\n",
    "    for n, dict_n in dict_I.items():\n",
    "        #print(\" \", n)\n",
    "        (t1,t2) = dict_n['UT-LVCE']\n",
    "        yes_mask = supergraphs_hs[size_I][n] > 0\n",
    "        no_mask = supergraphs_hs[size_I][n] == 0\n",
    "        yes_dict_I[n] = {'UT-LVCE': (t1[yes_mask], t2[yes_mask])}\n",
    "        no_dict_I[n] = {'UT-LVCE': (t1[no_mask], t2[no_mask])}\n",
    "    values_hs_yes[size_I] = yes_dict_I\n",
    "    values_hs_no[size_I] = no_dict_I"
   ]
  },
  {
   "cell_type": "code",
   "execution_count": 24,
   "metadata": {
    "scrolled": false
   },
   "outputs": [
    {
     "data": {
      "image/png": "[encoded data removed]",
      "text/plain": [
       "<Figure size 750x250 with 3 Axes>"
      ]
     },
     "metadata": {
      "needs_background": "light"
     },
     "output_type": "display_data"
    }
   ],
   "source": [
    "w = 2.5\n",
    "xticks = [0, 0.25, 0.5, 0.75, 1]#[0, 0.1, 0.2, 0.3]\n",
    "plt.figure(figsize=(3*w,w), dpi=100)\n",
    "gs = gridspec.GridSpec(1, 3, wspace=0.05, hspace=0)\n",
    "\n",
    "xlim = [0, 0.6]\n",
    "# Plot 1: I = 10\n",
    "I = 10\n",
    "plt.subplot(gs[0])\n",
    "ax = plt.gca()\n",
    "plot_roc_bin(ax, values_hs_yes[I], values_hs_no[I], label_y=True, xticks=xticks,legend=None)#((-0.25,1),1))\n",
    "ax.set_title(\"I-MEC recovery, $|I^\\star|=%d$\" % I, size=10)\n",
    "ax.set_xlim(xlim)\n",
    "ax.set_ylim(0.5, 1)\n",
    "\n",
    "# Plot 1: I = 20\n",
    "I = 20\n",
    "plt.subplot(gs[1])\n",
    "ax = plt.gca()\n",
    "plot_roc_bin(ax, values_hs_yes[I], values_hs_no[I], label_y=False, xticks=xticks,legend=((1,1),1))#None)\n",
    "ax.set_title(\"I-MEC recovery, $|I^\\star|=%d$\" % I, size=10)\n",
    "ax.set_xlim(xlim)\n",
    "ax.set_ylim(0.5, 1)\n",
    "\n",
    "\n",
    "# --------------------------------------------------\n",
    "# Histogram\n",
    "supergraphs = supergraphs_hs\n",
    "Is_to_plot = [10,20]\n",
    "total_cases = 500\n",
    "plt.subplot(gs[2])\n",
    "ax = plt.gca()\n",
    "j = 0\n",
    "dev = 0.42\n",
    "c = [colors[i] for i in [1,3]]\n",
    "cb = [colorsa[i] for i in [1,3]]\n",
    "hatch = ['/////', None] # / , \\\\ , | , - , + , x, o, O, ., *\n",
    "for size_I, dict_I in supergraphs.items():\n",
    "    if size_I not in Is_to_plot:\n",
    "        continue\n",
    "    ns_freq = sorted(zip(dict_I.keys(), [(counts > 0).sum() for counts in dict_I.values()]))\n",
    "    Ns = [n for n,_ in ns_freq]\n",
    "    freqs = np.array([f / total_cases for _,f in ns_freq]) * 100\n",
    "    \n",
    "    x = np.arange(len(Ns)) + dev*j\n",
    "    ax.bar(x, freqs, width=dev, label=\"$|I^\\star|=%d$\" % size_I, color=c[j], edgecolor=cb[j], hatch=hatch[j])\n",
    "    \n",
    "    for i,freq in enumerate(freqs):        \n",
    "        ax.text(i+dev*j,freq-5,(\"%d\" % (freq)), ha='center',size=7)\n",
    "    \n",
    "    j += 1\n",
    "ax.set_xticks(np.arange(len(Ns)) + dev / 2)\n",
    "ax.set_xticklabels(Ns)\n",
    "ax.set_ylim(0,100)\n",
    "ax.set_title(\"GES output contains a least one\\nsupergraph of an I-MEC graph\", size=10)\n",
    "ax.set_ylabel(\"\\% of cases\")\n",
    "ax.set_xlabel(\"obs. per environment (n)\")\n",
    "ax.yaxis.tick_right()\n",
    "ax.set_yticklabels([])\n",
    "ax.yaxis.set_label_position(\"right\")\n",
    "ax.legend(ncol=1, prop={'size': 7})\n",
    "\n",
    "\n",
    "filename = \"figure_ges_binning.pdf\"\n",
    "if filename is not None:\n",
    "    plt.savefig(\"figures/%s\" % filename, bbox_inches='tight')"
   ]
  },
  {
   "cell_type": "code",
   "execution_count": null,
   "metadata": {},
   "outputs": [],
   "source": []
  }
 ],
 "metadata": {
  "kernelspec": {
   "display_name": "Python 3",
   "language": "python",
   "name": "python3"
  },
  "language_info": {
   "codemirror_mode": {
    "name": "ipython",
    "version": 3
   },
   "file_extension": ".py",
   "mimetype": "text/x-python",
   "name": "python",
   "nbconvert_exporter": "python",
   "pygments_lexer": "ipython3",
   "version": "3.7.3"
  }
 },
 "nbformat": 4,
 "nbformat_minor": 5
}
